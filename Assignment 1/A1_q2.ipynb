{
 "cells": [
  {
   "cell_type": "code",
   "execution_count": 1,
   "id": "ef0b9179",
   "metadata": {},
   "outputs": [],
   "source": [
    "import numpy as np\n",
    "import cv2 as cv\n",
    "import glob\n",
    "import time\n",
    "from pathlib import Path\n",
    "import depthai as dai\n",
    "import math"
   ]
  },
  {
   "cell_type": "code",
   "execution_count": 2,
   "id": "f99b3cb6",
   "metadata": {},
   "outputs": [
    {
     "name": "stdout",
     "output_type": "stream",
     "text": [
      "CAMERA INTRINSIC MATRIX:\n",
      "[[753.15202, 0.0, 311.95497], [0.0, 749.43172, 274.43548], [0.0, 0.0, 1.0]]\n"
     ]
    }
   ],
   "source": [
    "camera_matrix = []\n",
    " \n",
    "with open('images/left/camera_matrix.txt', 'r') as f:\n",
    "    for line in f :\n",
    "        camera_matrix.append([float(num) for num in line.split(' ')])\n",
    "\n",
    "print(\"CAMERA INTRINSIC MATRIX:\")\n",
    "print(camera_matrix)\n"
   ]
  },
  {
   "cell_type": "code",
   "execution_count": 3,
   "id": "0903c96f",
   "metadata": {},
   "outputs": [],
   "source": [
    "FX = 753.15\n",
    "FY = 749.43\n",
    "Z = 350"
   ]
  },
  {
   "cell_type": "code",
   "execution_count": 4,
   "id": "6722526a",
   "metadata": {},
   "outputs": [],
   "source": [
    "def convert_milli_to_inch(x):\n",
    "    x = x / 10\n",
    "    return x / 25.4\n",
    "image = cv.imread(\"object_image.png\")\n"
   ]
  },
  {
   "cell_type": "code",
   "execution_count": 13,
   "id": "e0985cbc",
   "metadata": {},
   "outputs": [],
   "source": [
    "x, y, w, h =15,16,18,1"
   ]
  },
  {
   "cell_type": "code",
   "execution_count": 14,
   "id": "29f81b18",
   "metadata": {},
   "outputs": [
    {
     "name": "stdout",
     "output_type": "stream",
     "text": [
      "6.970722963553078\n",
      "7.4723456493601805\n",
      "15.335590519816769\n",
      "15.411712901805373\n",
      "Diameter of blue cirlce: 9.081\n"
     ]
    },
    {
     "data": {
      "text/plain": [
       "array([[[  0,   0,  20],\n",
       "        [  0,   0,  20],\n",
       "        [  0,   0,  18],\n",
       "        ...,\n",
       "        [109, 162, 174],\n",
       "        [111, 164, 176],\n",
       "        [111, 164, 176]],\n",
       "\n",
       "       [[  0,   0,  20],\n",
       "        [  0,   0,  20],\n",
       "        [  0,   0,  18],\n",
       "        ...,\n",
       "        [109, 162, 174],\n",
       "        [111, 164, 176],\n",
       "        [111, 164, 176]],\n",
       "\n",
       "       [[  0,   0,  20],\n",
       "        [  0,   0,  20],\n",
       "        [  0,   0,  18],\n",
       "        ...,\n",
       "        [109, 162, 174],\n",
       "        [109, 165, 176],\n",
       "        [109, 165, 176]],\n",
       "\n",
       "       ...,\n",
       "\n",
       "       [[  0,   6,  25],\n",
       "        [  0,   5,  24],\n",
       "        [  0,   6,  22],\n",
       "        ...,\n",
       "        [114, 178, 183],\n",
       "        [115, 182, 187],\n",
       "        [115, 182, 187]],\n",
       "\n",
       "       [[  0,   8,  29],\n",
       "        [  0,   8,  29],\n",
       "        [  0,   6,  25],\n",
       "        ...,\n",
       "        [110, 174, 180],\n",
       "        [110, 174, 180],\n",
       "        [111, 176, 181]],\n",
       "\n",
       "       [[  0,   8,  29],\n",
       "        [  0,   8,  29],\n",
       "        [  0,   6,  25],\n",
       "        ...,\n",
       "        [109, 173, 179],\n",
       "        [109, 173, 179],\n",
       "        [109, 173, 179]]], dtype=uint8)"
      ]
     },
     "execution_count": 14,
     "metadata": {},
     "output_type": "execute_result"
    }
   ],
   "source": [
    "cv.rectangle(image, (x, y), (x + w, y + h), (0, 255, 0), 5)\n",
    "Image_point1x = x\n",
    "Image_point1y = y\n",
    "Image_point2x = x + w\n",
    "Image_point2y = y + h\n",
    "cv.rectangle(image, (x, y), (x + w, y + h), (0, 255, 0), 5)\n",
    "cv.line(image, (Image_point1x, Image_point1y), (Image_point1x, Image_point2y), (0, 0, 255), 8)\n",
    "Real_point1x = Z * (Image_point1x / FX)\n",
    "Real_point1y = Z * (Image_point1y / FY)\n",
    "Real_point2x = Z * (Image_point2x / FX)\n",
    "Real_point2y = Z * (Image_point2x / FY)\n",
    "print(Real_point1x)\n",
    "print(Real_point1y)\n",
    "print(Real_point2x)\n",
    "print(Real_point2y)\n",
    "dist = math.sqrt((Real_point2y - Real_point1y) ** 2 + (Real_point2x - Real_point1x) ** 2)\n",
    "val = round(convert_milli_to_inch(dist*2), 5)\n",
    "print(\"Diameter of blue cirlce: {}\".format(val*100))\n",
    "cv.putText(image, str(val) + \" inches\", (Image_point1x-200, (y + y + h) // 2 + 5),cv.FONT_HERSHEY_SIMPLEX, 1, (0, 0, 255), 2)"
   ]
  },
  {
   "cell_type": "code",
   "execution_count": null,
   "id": "09188536",
   "metadata": {},
   "outputs": [],
   "source": []
  }
 ],
 "metadata": {
  "kernelspec": {
   "display_name": "Python 3 (ipykernel)",
   "language": "python",
   "name": "python3"
  },
  "language_info": {
   "codemirror_mode": {
    "name": "ipython",
    "version": 3
   },
   "file_extension": ".py",
   "mimetype": "text/x-python",
   "name": "python",
   "nbconvert_exporter": "python",
   "pygments_lexer": "ipython3",
   "version": "3.9.12"
  }
 },
 "nbformat": 4,
 "nbformat_minor": 5
}
